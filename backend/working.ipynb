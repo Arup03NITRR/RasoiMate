{
 "cells": [
  {
   "cell_type": "code",
   "execution_count": 134,
   "id": "c4ab5619",
   "metadata": {},
   "outputs": [],
   "source": [
    "import os\n",
    "from dotenv import load_dotenv\n",
    "\n",
    "import langchain\n",
    "from langchain_core.prompts import PromptTemplate\n",
    "from langchain_core.runnables import Runnable\n",
    "\n",
    "from langchain_groq import ChatGroq"
   ]
  },
  {
   "cell_type": "code",
   "execution_count": 135,
   "id": "8a6e4cd9",
   "metadata": {},
   "outputs": [],
   "source": [
    "load_dotenv()\n",
    "\n",
    "os.environ[\"LANGSMITH_TRACING\"]=os.getenv(\"LANGSMITH_TRACING\")\n",
    "os.environ[\"LANGSMITH_ENDPOINT\"]=os.getenv(\"LANGSMITH_ENDPOINT\")\n",
    "os.environ[\"LANGSMITH_API_KEY\"]=os.getenv(\"LANGSMITH_API_KEY\")\n",
    "os.environ[\"LANGSMITH_PROJECT\"]=os.getenv(\"LANGSMITH_PROJECT\")\n",
    "\n",
    "GROQ_API_KEY=os.getenv(\"GROQ_API_KEY\")"
   ]
  },
  {
   "cell_type": "code",
   "execution_count": 136,
   "id": "02682f37",
   "metadata": {},
   "outputs": [],
   "source": [
    "prompt = PromptTemplate(\n",
    "    input_variables=[\"ingredients\", \"cuisine\", \"num_people\", \"output_lang\"],\n",
    "    template=\"\"\"\n",
    "Generate a detailed and creative recipe using the following inputs:\n",
    "- Ingredients: {ingredients}\n",
    "- Cuisine Type: {cuisine}\n",
    "- Serves: {num_people} people\n",
    "- Output language: {language}\n",
    "\n",
    "The recipe should include:\n",
    "- A title (use heading 2)\n",
    "- Ingredients list with quantities (with proper heading format and '-' points)\n",
    "- Step-by-step cooking instructions (with proper heading format and '-' points)\n",
    "- Optional serving tips (With proper heading format and '-' points)\n",
    "\"\"\"\n",
    ")"
   ]
  },
  {
   "cell_type": "code",
   "execution_count": 137,
   "id": "953d0c03",
   "metadata": {},
   "outputs": [],
   "source": [
    "llm = ChatGroq(\n",
    "    groq_api_key=GROQ_API_KEY,\n",
    "    model_name=\"Llama-3.3-70b-Versatile\"\n",
    ")"
   ]
  },
  {
   "cell_type": "code",
   "execution_count": 138,
   "id": "b084e8d6",
   "metadata": {},
   "outputs": [],
   "source": [
    "recipe_chain: Runnable = prompt | llm"
   ]
  },
  {
   "cell_type": "code",
   "execution_count": 139,
   "id": "162501f8",
   "metadata": {},
   "outputs": [],
   "source": [
    "response = recipe_chain.invoke({\n",
    "    \"ingredients\": \"pasta, cabbage, egg\",\n",
    "    \"cuisine\": \"indian\",\n",
    "    \"num_people\": 2,\n",
    "    \"language\":\"english\"\n",
    "})"
   ]
  },
  {
   "cell_type": "code",
   "execution_count": 140,
   "id": "5ab2d464",
   "metadata": {},
   "outputs": [
    {
     "name": "stdout",
     "output_type": "stream",
     "text": [
      "## Indian-Style Pasta with Cabbage and Egg\n",
      "This unique dish combines the comfort of pasta with the flavors of Indian cuisine, featuring cabbage and egg as key ingredients. It serves 2 people and can be prepared in under 30 minutes.\n",
      "\n",
      "### Ingredients\n",
      "- 200g pasta of your choice (e.g., penne or fusilli)\n",
      "- 1 small cabbage, shredded\n",
      "- 2 eggs\n",
      "- 1 teaspoon garam masala powder\n",
      "- 1 teaspoon cumin powder\n",
      "- 1/2 teaspoon turmeric powder\n",
      "- 1/2 teaspoon red chili powder (optional, for some heat)\n",
      "- Salt, to taste\n",
      "- 2 tablespoons vegetable oil\n",
      "- 1 small onion, finely chopped\n",
      "- 2 cloves garlic, minced\n",
      "- 1 tablespoon freshly chopped cilantro, for garnish\n",
      "- Lemon wedges, for serving (optional)\n",
      "\n",
      "### Cooking Instructions\n",
      "- Start by boiling the pasta according to the package instructions until it's al dente. Drain and set aside.\n",
      "- In a large pan, heat 1 tablespoon of vegetable oil over medium heat. Add the chopped onion and sauté until it becomes translucent.\n",
      "- Add the minced garlic and cook for another minute, stirring constantly to prevent burning.\n",
      "- Add the shredded cabbage to the pan, along with the garam masala, cumin, turmeric, and red chili powder (if using). Mix well to combine.\n",
      "- Cook the cabbage mixture for about 5-7 minutes, or until the cabbage is tender but still crisp. Season with salt to taste.\n",
      "- Push the cabbage mixture to one side of the pan. Crack the eggs into the empty side and scramble them until they're cooked through.\n",
      "- Mix the eggs with the cabbage mixture.\n",
      "- Add the cooked pasta to the pan, tossing everything together to combine the pasta with the cabbage and egg mixture.\n",
      "- Cook for an additional 2-3 minutes, ensuring the pasta is well coated with the flavors.\n",
      "- Turn off the heat and garnish with chopped cilantro.\n",
      "\n",
      "### Serving Tips\n",
      "- Serve the Indian-Style Pasta with Cabbage and Egg hot, with a squeeze of lemon juice if desired.\n",
      "- Consider adding some toasted nuts or seeds on top for extra crunch.\n",
      "- For an extra burst of flavor, serve with a side of raita (a yogurt and cucumber sauce) to cool down the palate.\n",
      "- Experiment with different types of pasta and spices to make the dish your own.\n",
      "- Leftovers can be refrigerated for up to a day and reheated as needed.\n"
     ]
    }
   ],
   "source": [
    "print(response.content)"
   ]
  },
  {
   "cell_type": "code",
   "execution_count": 141,
   "id": "0c9f30c7",
   "metadata": {},
   "outputs": [],
   "source": [
    "llm2 = ChatGroq(\n",
    "    groq_api_key=GROQ_API_KEY,\n",
    "    model_name=\"Gemma2-9b-It\"\n",
    ")"
   ]
  },
  {
   "cell_type": "code",
   "execution_count": 142,
   "id": "217181b4",
   "metadata": {},
   "outputs": [],
   "source": [
    "recipe_chain2: Runnable = prompt | llm2"
   ]
  },
  {
   "cell_type": "code",
   "execution_count": 143,
   "id": "b8c3de3b",
   "metadata": {},
   "outputs": [],
   "source": [
    "response2 = recipe_chain2.invoke({\n",
    "    \"ingredients\": \"pasta, cabbage, egg\",\n",
    "    \"cuisine\": \"indian\",\n",
    "    \"num_people\": 2,\n",
    "    \"language\":\"english\"\n",
    "})"
   ]
  },
  {
   "cell_type": "code",
   "execution_count": 144,
   "id": "73141ea4",
   "metadata": {},
   "outputs": [
    {
     "name": "stdout",
     "output_type": "stream",
     "text": [
      "## Cabbage & Egg Pasta with Indian Spiced Yogurt\n",
      "\n",
      "This recipe combines the heartiness of pasta with the vibrant flavors of Indian spices and a creamy yogurt sauce. \n",
      "\n",
      "**Serves:** 2 \n",
      "**Prep Time:** 15 minutes\n",
      "**Cook Time:** 20 minutes\n",
      "\n",
      "### Ingredients:\n",
      "\n",
      "- 200g pasta (fettuccine or penne work well)\n",
      "- 1/2 medium head of cabbage, finely shredded\n",
      "- 2 large eggs\n",
      "- 1/4 cup plain yogurt\n",
      "- 1 tablespoon olive oil\n",
      "- 1/2 teaspoon cumin seeds\n",
      "- 1/4 teaspoon mustard seeds\n",
      "- 1/4 teaspoon turmeric powder\n",
      "- 1/4 teaspoon red chili powder (adjust to your spice preference)\n",
      "- 1/4 teaspoon garam masala\n",
      "- Salt to taste\n",
      "- Fresh cilantro, chopped (for garnish)\n",
      "\n",
      "### Instructions:\n",
      "\n",
      "- **Cook the pasta:** Bring a large pot of salted water to a boil. Add the pasta and cook according to package directions until al dente. Drain and set aside.\n",
      "- **Sauté the spices:** Heat the olive oil in a large skillet over medium heat. Add the cumin seeds and mustard seeds and cook for about 30 seconds, until fragrant.\n",
      "- **Cook the cabbage:** Add the shredded cabbage to the skillet and cook, stirring occasionally, for 5-7 minutes, until wilted.\n",
      "- **Make the yogurt sauce:** In a small bowl, whisk together the yogurt, turmeric powder, red chili powder, garam masala, and salt.  \n",
      "- **Scramble the eggs:** Push the cooked cabbage to one side of the skillet. Crack the eggs into the empty space and scramble them lightly. \n",
      "- **Combine everything:** Once the eggs are cooked through, add the cooked pasta to the skillet and toss to combine with the cabbage and eggs. Pour the yogurt sauce over the pasta mixture and stir gently to coat.\n",
      "- **Serve:** Garnish with fresh cilantro and serve immediately.\n",
      "\n",
      "### Serving Tips:\n",
      "\n",
      "- Add a dollop of homemade raita (yogurt dip with cucumber and mint) for extra creaminess and freshness.\n",
      "- Serve with a side of naan bread or roti for dipping.\n",
      "- Top with crispy fried onions for added texture and flavor.\n",
      "\n",
      "\n",
      "\n"
     ]
    }
   ],
   "source": [
    "print(response2.content)"
   ]
  },
  {
   "cell_type": "code",
   "execution_count": 153,
   "id": "f7a950d9",
   "metadata": {},
   "outputs": [],
   "source": [
    "llm3 = ChatGroq(\n",
    "    groq_api_key=GROQ_API_KEY,\n",
    "    model_name=\"Compound-Beta\"\n",
    ")"
   ]
  },
  {
   "cell_type": "code",
   "execution_count": 154,
   "id": "d2423233",
   "metadata": {},
   "outputs": [],
   "source": [
    "recipe_chain3: Runnable = prompt | llm3"
   ]
  },
  {
   "cell_type": "code",
   "execution_count": 155,
   "id": "a47d07d6",
   "metadata": {},
   "outputs": [],
   "source": [
    "response3 = recipe_chain3.invoke({\n",
    "    \"ingredients\": \"pasta, cabbage, egg\",\n",
    "    \"cuisine\": \"indian\",\n",
    "    \"num_people\": 2,\n",
    "    \"language\":\"english\"\n",
    "})"
   ]
  },
  {
   "cell_type": "code",
   "execution_count": 156,
   "id": "ab1dd006",
   "metadata": {},
   "outputs": [
    {
     "name": "stdout",
     "output_type": "stream",
     "text": [
      "## Indian-Style Pasta with Cabbage and Egg\n",
      "\n",
      "### Ingredients:\n",
      "- 150g pasta (any shape, preferably short)\n",
      "- 1 medium cabbage, finely chopped (about 2 cups)\n",
      "- 2 eggs\n",
      "- 1 small onion, finely chopped (about 1 cup)\n",
      "- 2 cloves of garlic, minced\n",
      "- 1 teaspoon ground cumin\n",
      "- 1 teaspoon curry powder\n",
      "- 1/2 teaspoon turmeric\n",
      "- 1/2 teaspoon red chili powder (optional, adjust to taste)\n",
      "- 1 can (14 oz) diced tomatoes\n",
      "- 2 tablespoons vegetable oil\n",
      "- Salt, to taste\n",
      "- Fresh cilantro, for garnish\n",
      "\n",
      "### Instructions:\n",
      "- **Cook the Pasta**: Bring a large pot of salted water to a boil. Cook the pasta according to package instructions until al dente. Drain and set aside.\n",
      "- **Prepare the Cabbage**: In a large pan, heat 1 tablespoon of oil over medium heat. Add the chopped onion and sauté until translucent, about 3-4 minutes. Add the minced garlic and cook for another minute.\n",
      "- **Add Cabbage and Spices**: Add the chopped cabbage to the pan. Stir well to combine with the onion mixture. Cook until the cabbage is slightly tender, about 5 minutes. Add cumin, curry powder, turmeric, and red chili powder (if using). Stir well to combine.\n",
      "- **Incorporate Tomatoes and Eggs**: Add the diced tomatoes to the pan and stir well. Make 2 small wells in the cabbage mixture and crack an egg into each well. Cover the pan and cook until the whites are set and the yolks are cooked to your desired doneness, about 5-7 minutes.\n",
      "- **Combine with Pasta**: Add the cooked pasta to the pan, stirring gently to combine with the cabbage and egg mixture. Season with salt to taste.\n",
      "- **Final Touches**: Reduce heat to low and simmer for 2-3 minutes to allow the flavors to meld together.\n",
      "\n",
      "### Serving Tips:\n",
      "- **Garnish**: Garnish with fresh cilantro for a burst of freshness.\n",
      "- **Side Dish**: Serve with a side of naan bread or roti for a complete meal.\n",
      "- **Customization**: Adjust the level of spiciness to your liking by adding more or less red chili powder.\n",
      "- **Leftover Tip**: This dish can be refrigerated for up to 2 days. Reheat with a little water or oil to achieve the desired consistency.\n"
     ]
    }
   ],
   "source": [
    "print(response3.content)"
   ]
  }
 ],
 "metadata": {
  "kernelspec": {
   "display_name": "venv",
   "language": "python",
   "name": "venv"
  },
  "language_info": {
   "codemirror_mode": {
    "name": "ipython",
    "version": 3
   },
   "file_extension": ".py",
   "mimetype": "text/x-python",
   "name": "python",
   "nbconvert_exporter": "python",
   "pygments_lexer": "ipython3",
   "version": "3.11.1"
  }
 },
 "nbformat": 4,
 "nbformat_minor": 5
}
